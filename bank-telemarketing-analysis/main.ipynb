{
 "cells": [
  {
   "cell_type": "markdown",
   "source": [
    "# Aims/Objectives:\n",
    "- get Jupyter Notebooks set up in your IDE\n",
    "    - (a note before I forget: Using a notebook as a scratch file can be really handy for complex querysets or anything involving data)\n",
    "- get familiar with using:\n",
    "    - jupyter notebooks\n",
    "    - pandas\n",
    "    - seaborn\n",
    "    - matplotlib\n",
    "    - sklearn\n",
    "- get familiar doing:\n",
    "    - data exploration\n",
    "    - data manipulation\n",
    "    - data visualisation\n",
    "    - fitting/evaluating a model\n",
    "\n",
    "# Plan:\n",
    "- get set up (~5 mins)\n",
    "- Have a go at the practical below (~20 mins)\n",
    "- Come back for a discussion (~5 mins)"
   ],
   "metadata": {
    "collapsed": false,
    "pycharm": {
     "name": "#%% md\n"
    }
   }
  },
  {
   "cell_type": "markdown",
   "source": [
    "# Bank Telemarketing Dataset\n",
    "\n",
    "- This content is adapted from an assignment from Cambridge Spark\n",
    "- The data is collected from a telemarketing campaign by a Portuguese banking institution\n",
    "- We want to create a model that can predict whether a customer will say `yes` or `no` in column `y`\n",
    "- the dataset represents:"
   ],
   "metadata": {
    "collapsed": false,
    "pycharm": {
     "name": "#%% md\n"
    }
   }
  },
  {
   "cell_type": "markdown",
   "metadata": {
    "pycharm": {
     "name": "#%% md\n"
    }
   },
   "source": [
    "\n",
    "| Variable  | Meaning | Type |\n",
    "| ------------- | ------------- | ------------- |\n",
    "| age  | Age of the client  | Numeric |\n",
    "| job  | Type of Job  | Categorical |\n",
    "| marital | Marital status | Categorical |\n",
    "| education | Type of Education | Categorical | \n",
    "| default | Has credit in default? | Binary |\n",
    "| balance | Average yearly balance in euros | Binary |\n",
    "| housing | Has housing loan | Binary |\n",
    "| contact | Contact communication type | Categorical |\n",
    "| day | Last contact day of the month | Numeric | \n",
    "| month | Last contact month of the year | Categorical |\n",
    "|duration | Last contact duration in seconds | Numeric |\n",
    "| campaign | Number of contact performed during this campaign and for this client | Numeric |\n",
    "|pdays | Number of days that passed by after the client was last contacted from a previous campaign | Numeric -1 means client was not previously contacted|\n",
    "|previous | Number of contacts performed before this campaign and for this client | Numeric |\n",
    "|poutcome | Outcome of the previous marketing campaign | Categorical |\n",
    "|y | This is the output variable. Has the client subscribed a term deposit? | Binary |\n"
   ]
  },
  {
   "cell_type": "code",
   "execution_count": 125,
   "metadata": {
    "pycharm": {
     "name": "#%%\n"
    }
   },
   "outputs": [],
   "source": [
    "import pandas as pd\n",
    "\n",
    "import seaborn as sns\n",
    "import matplotlib.pyplot as plt\n",
    "import sklearn.model_selection"
   ]
  },
  {
   "cell_type": "markdown",
   "metadata": {
    "pycharm": {
     "name": "#%% md\n"
    }
   },
   "source": [
    "- load the bank dataset into a DataFrame using the `pandas` library\n",
    "- `bank-full.csv` is in the `data` folder. Load it with `pd.readcsv()` in and assign it to a variable called `df`.\n",
    "    - include `sep=\";\"` as a kwarg, the file is semicolon delimited\n",
    "- have a look at the first 5 lines of data with the `head()` method"
   ]
  },
  {
   "cell_type": "code",
   "execution_count": 130,
   "metadata": {
    "pycharm": {
     "name": "#%%\n"
    }
   },
   "outputs": [
    {
     "data": {
      "text/plain": "   age           job  marital  education default  balance housing loan  \\\n0   58    management  married   tertiary      no     2143     yes   no   \n1   44    technician   single  secondary      no       29     yes   no   \n2   33  entrepreneur  married  secondary      no        2     yes  yes   \n3   47   blue-collar  married    unknown      no     1506     yes   no   \n4   33       unknown   single    unknown      no        1      no   no   \n\n   contact  day month  duration  campaign  pdays  previous poutcome   y  \n0  unknown    5   may       261         1     -1         0  unknown  no  \n1  unknown    5   may       151         1     -1         0  unknown  no  \n2  unknown    5   may        76         1     -1         0  unknown  no  \n3  unknown    5   may        92         1     -1         0  unknown  no  \n4  unknown    5   may       198         1     -1         0  unknown  no  ",
      "text/html": "<div>\n<style scoped>\n    .dataframe tbody tr th:only-of-type {\n        vertical-align: middle;\n    }\n\n    .dataframe tbody tr th {\n        vertical-align: top;\n    }\n\n    .dataframe thead th {\n        text-align: right;\n    }\n</style>\n<table border=\"1\" class=\"dataframe\">\n  <thead>\n    <tr style=\"text-align: right;\">\n      <th></th>\n      <th>age</th>\n      <th>job</th>\n      <th>marital</th>\n      <th>education</th>\n      <th>default</th>\n      <th>balance</th>\n      <th>housing</th>\n      <th>loan</th>\n      <th>contact</th>\n      <th>day</th>\n      <th>month</th>\n      <th>duration</th>\n      <th>campaign</th>\n      <th>pdays</th>\n      <th>previous</th>\n      <th>poutcome</th>\n      <th>y</th>\n    </tr>\n  </thead>\n  <tbody>\n    <tr>\n      <th>0</th>\n      <td>58</td>\n      <td>management</td>\n      <td>married</td>\n      <td>tertiary</td>\n      <td>no</td>\n      <td>2143</td>\n      <td>yes</td>\n      <td>no</td>\n      <td>unknown</td>\n      <td>5</td>\n      <td>may</td>\n      <td>261</td>\n      <td>1</td>\n      <td>-1</td>\n      <td>0</td>\n      <td>unknown</td>\n      <td>no</td>\n    </tr>\n    <tr>\n      <th>1</th>\n      <td>44</td>\n      <td>technician</td>\n      <td>single</td>\n      <td>secondary</td>\n      <td>no</td>\n      <td>29</td>\n      <td>yes</td>\n      <td>no</td>\n      <td>unknown</td>\n      <td>5</td>\n      <td>may</td>\n      <td>151</td>\n      <td>1</td>\n      <td>-1</td>\n      <td>0</td>\n      <td>unknown</td>\n      <td>no</td>\n    </tr>\n    <tr>\n      <th>2</th>\n      <td>33</td>\n      <td>entrepreneur</td>\n      <td>married</td>\n      <td>secondary</td>\n      <td>no</td>\n      <td>2</td>\n      <td>yes</td>\n      <td>yes</td>\n      <td>unknown</td>\n      <td>5</td>\n      <td>may</td>\n      <td>76</td>\n      <td>1</td>\n      <td>-1</td>\n      <td>0</td>\n      <td>unknown</td>\n      <td>no</td>\n    </tr>\n    <tr>\n      <th>3</th>\n      <td>47</td>\n      <td>blue-collar</td>\n      <td>married</td>\n      <td>unknown</td>\n      <td>no</td>\n      <td>1506</td>\n      <td>yes</td>\n      <td>no</td>\n      <td>unknown</td>\n      <td>5</td>\n      <td>may</td>\n      <td>92</td>\n      <td>1</td>\n      <td>-1</td>\n      <td>0</td>\n      <td>unknown</td>\n      <td>no</td>\n    </tr>\n    <tr>\n      <th>4</th>\n      <td>33</td>\n      <td>unknown</td>\n      <td>single</td>\n      <td>unknown</td>\n      <td>no</td>\n      <td>1</td>\n      <td>no</td>\n      <td>no</td>\n      <td>unknown</td>\n      <td>5</td>\n      <td>may</td>\n      <td>198</td>\n      <td>1</td>\n      <td>-1</td>\n      <td>0</td>\n      <td>unknown</td>\n      <td>no</td>\n    </tr>\n  </tbody>\n</table>\n</div>"
     },
     "execution_count": 130,
     "metadata": {},
     "output_type": "execute_result"
    }
   ],
   "source": [
    "# Your code here"
   ]
  },
  {
   "cell_type": "markdown",
   "metadata": {
    "pycharm": {
     "name": "#%% md\n"
    }
   },
   "source": [
    "## Checking for NaNs\n",
    "\n",
    "- getting familiar with our data. Before we can do anything useful we need to understand the data:\n",
    "- how many rows (observations) and columns (features)\n",
    "    - null values\n",
    "    - potential errors (e.g. typos in strings or decimal places in numerical columns).\n",
    "\n",
    "Pandas makes this analysis very convenient\n",
    "\n",
    "One of these methods, `.info()` provides a great overview of your data, including:\n",
    "  - The number of rows\n",
    "  - The number of columns\n",
    "  - The data type of each column\n",
    "  - The number of non-null values\n",
    "  - The size in memory of your dataset\n",
    "  \n",
    "In the cell below, run `.info()` on the dataset"
   ]
  },
  {
   "cell_type": "code",
   "execution_count": null,
   "metadata": {
    "pycharm": {
     "name": "#%%\n"
    }
   },
   "outputs": [],
   "source": [
    "# Your code here"
   ]
  },
  {
   "cell_type": "markdown",
   "metadata": {
    "pycharm": {
     "name": "#%% md\n"
    }
   },
   "source": [
    "From the output of `.info()` it's clear that the dataset does not contain any null values (which is great)\n",
    "(all the non-null counts are 45211 which is the length of the dataset. If these counts were lower, there would be missing values)\n",
    "\n",
    "We can also see that the data types have loaded reasonably\n",
    "\n",
    "side note:\n",
    " there are other ways to check for null values that you should be aware of. For instance:\n",
    " - the `.isna()` method will convert your DataFrame of values (numerical, string, and otherwise) into a DataFrame of boolean values (`True` or `False`), depending on whether or not each cell is null.\n",
    "  - calling `df.isna().any()` converts this DataFrame into a Series representing a column by column check for null values. I.e. returning a Series specifying whether or not each column contains any null values.\n",
    "  - calling `df.isna().any().any()` returns a boolean value for whether or not the DataFrame contains any null values\n"
   ]
  },
  {
   "cell_type": "markdown",
   "metadata": {
    "pycharm": {
     "name": "#%% md\n"
    }
   },
   "source": [
    "# Dataset Exploration\n",
    "\n",
    "Now let's try some techniques to look at the data and discover some statistical properties of the attributes we are working with.\n",
    "\n",
    "<br>\n",
    "\n",
    "\n",
    "**Make a count plot showing the distribution of `yes` and `no` of our target variable `y`.**\n",
    "\n",
    "The distribution of the classes in your training data is an important consideration when building a machine learning model. \n",
    "\n",
    "Consider an extreme case where 95% of your data points belong to one class, and only 5% belong to the other. \n",
    "\n",
    "In this case, a machine learning algorithm may learn to predict the majority class label for all datapoint, leading to an accuracy score of 95%. But is this a good model? \n",
    "\n",
    "Not at all! Let's now inspect the distribution of class labels in our data set. \n",
    "\n",
    "*You can use the `sns.countplot()` function to display the distribution of our classes.*"
   ]
  },
  {
   "cell_type": "code",
   "execution_count": null,
   "metadata": {
    "pycharm": {
     "name": "#%%\n"
    }
   },
   "outputs": [],
   "source": [
    "# We create a new figure to make sure other figures in the notebook don't get modified\n",
    "plt.figure()\n",
    "\n",
    "# Your code here"
   ]
  },
  {
   "cell_type": "markdown",
   "metadata": {
    "pycharm": {
     "name": "#%% md\n"
    }
   },
   "source": [
    "**Make the same count, but this time segment the data by the variable marital status. What can you observe?**\n",
    "\n",
    "*Hint: use the `hue` parameter in calling `sns.countplot()`*"
   ]
  },
  {
   "cell_type": "code",
   "execution_count": null,
   "metadata": {
    "pycharm": {
     "name": "#%%\n"
    }
   },
   "outputs": [],
   "source": [
    "# We create a new figure to make sure other figures in the notebook don't get modified\n",
    "plt.figure()\n",
    "\n",
    "# Your code here"
   ]
  },
  {
   "cell_type": "markdown",
   "metadata": {
    "pycharm": {
     "name": "#%% md\n"
    }
   },
   "source": [
    "**Using `pandas`, create a boxplot of the balance variable. What can you conclude from the plot?**\n",
    "\n",
    "use the `.boxplot()` method on `df`\n",
    "you can control the y-axis with `plt.ylim(y_min, y_max)` if you want a closer look at the box"
   ]
  },
  {
   "cell_type": "code",
   "execution_count": null,
   "metadata": {
    "pycharm": {
     "name": "#%%\n"
    }
   },
   "outputs": [],
   "source": [
    "# We create a new figure to make sure other figures in the notebook don't get modified\n",
    "plt.figure()\n",
    "\n",
    "# Your code here"
   ]
  },
  {
   "cell_type": "markdown",
   "metadata": {
    "pycharm": {
     "name": "#%% md\n"
    }
   },
   "source": [
    "**Plot the boxplot of the `balance` variable, grouped by the output variable `y`. What can you say concerning the distribution of the variable between the yes and no groups?**\n",
    "\n",
    "Note that the `y` variable should be along the x-axis, and `balance` should be on the y-axis.\n",
    "\n",
    "use the `sns.boxplot()` function but specify both `x` and `y`"
   ]
  },
  {
   "cell_type": "code",
   "execution_count": null,
   "metadata": {
    "pycharm": {
     "name": "#%%\n"
    }
   },
   "outputs": [],
   "source": [
    "# We create a new figure to make sure other figures in the notebook don't get modified\n",
    "plt.figure()\n",
    "\n",
    "# Your code here:"
   ]
  },
  {
   "cell_type": "markdown",
   "metadata": {
    "pycharm": {
     "name": "#%% md\n"
    }
   },
   "source": [
    "# Dataset Preprocessing \n",
    "\n",
    "<br>\n",
    "\n",
    "**The `duration` column is in seconds. Let's convert the units to be in minutes.**\n",
    "\n",
    "Create a copy of the dataframe called `df_new` using the `.copy()` function. Do this to avoid overwriting the original one.\n",
    "\n",
    "Convert the `duration` column to be in minutes, and save it in the duration column\n",
    "\n",
    "You can select the column like this `df_new[\"duration\"]` and divide it by 60"
   ]
  },
  {
   "cell_type": "code",
   "execution_count": null,
   "metadata": {
    "pycharm": {
     "name": "#%%\n"
    }
   },
   "outputs": [],
   "source": [
    "# Your code here\n"
   ]
  },
  {
   "cell_type": "markdown",
   "metadata": {
    "pycharm": {
     "name": "#%% md\n"
    }
   },
   "source": [
    "**Convert the `job`, `education`, and `y` categorical variables into suitable format to be fed into a machine learning model (i.e. do some one-hot encoding)**\n",
    "\n",
    "First, create a copy of `df_new` called `df_numerical`. This will avoid overwriting the original DataFrame.\n",
    "\n",
    "Next, to convert the categorical variables into a binary vector representation:\n",
    "- use the `pandas` function `get_dummies()`.\n",
    "- add the `prefix` kwarg when dealing with `job` and `education` (`job` for the job feature, and `education` for the education feature)\n",
    "- with col `y` we want to convert `no` and `yes` values into a binary representation (i.e. `0` and `1`)\n",
    "    - Overwrite the `y` column in `df_numerical` with the output of `get_dummies()`\n",
    "    - by default this method will create two columns, which is redundant: pass `drop_first=True` as a kwarg to prevent this\n",
    "- Finally, concatenate the new variables to the `df_numerical` dataframe.\n",
    "\n",
    "This function can convert a numerical column into a categorical one. The function considers the possible categorical values that your feature can assume, and creates a vector of the length of the possible values, with 1 or 0 depending if that particular value is present or not.\n"
   ]
  },
  {
   "cell_type": "code",
   "execution_count": null,
   "metadata": {
    "pycharm": {
     "name": "#%%\n"
    }
   },
   "outputs": [],
   "source": [
    "# Your code here\n"
   ]
  },
  {
   "cell_type": "markdown",
   "metadata": {
    "pycharm": {
     "name": "#%% md\n"
    }
   },
   "source": [
    "**Make a new dataset with only `education_primary`, `education_secondary`, `education_tertiary`, `education_unknown`, `balance`, `duration`, `campaign`, `pdays`, `previous` and `y`.**\n",
    "\n",
    "Create a new dataset from `df_numerical`, retaining only the columns `education_primary`, `education_secondary`, `education_tertiary`, `education_unknown`, `balance`, `duration`, `campaign`, `pdays`, `previous`. \n",
    "\n",
    "Save it in a new dataframe named `df_numerical_education`.\n",
    "\n",
    "Remember to also use the `.copy()` method!"
   ]
  },
  {
   "cell_type": "code",
   "execution_count": null,
   "metadata": {
    "pycharm": {
     "name": "#%%\n"
    }
   },
   "outputs": [],
   "source": [
    "# Your code here\n"
   ]
  },
  {
   "cell_type": "markdown",
   "metadata": {
    "pycharm": {
     "name": "#%% md\n"
    }
   },
   "source": [
    "**Normalize the `df_numerical_education` dataset using min-max normalisation, and save it as a new variable called `df_scaled`.**\n",
    "\n",
    "Given the dataset `df_numerical_education`, scale the values between the minimum and the maximum of the dataset, using.\n",
    "\n",
    "The min max scaling formula (considering you want to scale between 0 and 1) is as follows: \n",
    "\n",
    "```Python\n",
    "df_scaled=(originalDF - min_val_originalDF) / (max_val_originalDF - min_val_originalDF) \n",
    "```"
   ]
  },
  {
   "cell_type": "code",
   "execution_count": null,
   "metadata": {
    "pycharm": {
     "name": "#%%\n"
    }
   },
   "outputs": [],
   "source": [
    "# Your code here\n"
   ]
  },
  {
   "cell_type": "markdown",
   "metadata": {
    "pycharm": {
     "name": "#%% md\n"
    }
   },
   "source": [
    "# Fitting a logistic regression model "
   ]
  },
  {
   "cell_type": "markdown",
   "metadata": {
    "pycharm": {
     "name": "#%% md\n"
    }
   },
   "source": [
    "**Divide the dataset into training and testing sets.**\n",
    "\n",
    "Use the `train_test_split` from the `sklearn.model_selection` package to split the `df_scaled` dataframe into $4$ subsets: \n",
    " - `X_train`\n",
    " - `X_test`\n",
    " - `y_train`\n",
    " - `y_test`\n",
    "\n",
    "In doing so, specify the text size to be `0.3` and set the `random_state=101` for reproducibility."
   ]
  },
  {
   "cell_type": "code",
   "execution_count": null,
   "metadata": {
    "pycharm": {
     "name": "#%%\n"
    }
   },
   "outputs": [],
   "source": [
    "# Your code here\n"
   ]
  },
  {
   "cell_type": "code",
   "execution_count": null,
   "outputs": [],
   "source": [
    "# print(X_train.shape)\n",
    "# print(X_test.shape)\n",
    "# print(y_train.shape)\n",
    "# print(y_test.shape)\n"
   ],
   "metadata": {
    "collapsed": false,
    "pycharm": {
     "name": "#%%\n"
    }
   }
  },
  {
   "cell_type": "markdown",
   "metadata": {
    "pycharm": {
     "name": "#%% md\n"
    }
   },
   "source": [
    "**Create a Logistic Regression model and fit it on the training data**\n",
    "\n",
    "To do this create an instance of a LogisticRegression model from sklearn, call it `logmodel`\n",
    "\n",
    "Then use the `.fit()` method to train the model on `X_train` and `y_train`"
   ]
  },
  {
   "cell_type": "code",
   "execution_count": null,
   "metadata": {
    "scrolled": true,
    "pycharm": {
     "name": "#%%\n"
    }
   },
   "outputs": [],
   "source": [
    "from sklearn.linear_model import LogisticRegression\n",
    "\n",
    "# Your code here\n"
   ]
  },
  {
   "cell_type": "markdown",
   "metadata": {
    "pycharm": {
     "name": "#%% md\n"
    }
   },
   "source": [
    "**Use the `.predict()` method from your model to generate predictions on `X_test`**\n",
    "\n",
    "Assign the output to a variable called `predictions`."
   ]
  },
  {
   "cell_type": "code",
   "execution_count": null,
   "metadata": {
    "pycharm": {
     "name": "#%%\n"
    }
   },
   "outputs": [],
   "source": [
    "# Your code here"
   ]
  },
  {
   "cell_type": "markdown",
   "metadata": {
    "pycharm": {
     "name": "#%% md\n"
    }
   },
   "source": [
    "Let's check out the accuracy score of your model. There are many ways to do this but let's use the classification report. Uncomment the code below. Is this a good model? Is `accuracy` a good metric?\n",
    "\n",
    "1. Precision: Percentage of correct positive predictions relative to total positive predictions.\n",
    "\n",
    "2. Recall: Percentage of correct positive predictions relative to total actual positives.\n",
    "\n",
    "3. F1 Score: A weighted harmonic mean of precision and recall. The closer to 1, the better the model.\n",
    "\n",
    "F1 Score: 2 * (Precision * Recall) / (Precision + Recall)\n",
    "\n",
    "Using these three metrics, we can understand how well a given classification model is able to predict the outcomes for some response variable."
   ]
  },
  {
   "cell_type": "code",
   "execution_count": null,
   "metadata": {
    "pycharm": {
     "name": "#%%\n"
    }
   },
   "outputs": [],
   "source": [
    "# from sklearn.metrics import classification_report\n",
    "# print(classification_report(y_test, predictions))"
   ]
  },
  {
   "cell_type": "markdown",
   "source": [
    "Is this a good model? Is `accuracy` a good metric?\n",
    "\n",
    "\n"
   ],
   "metadata": {
    "collapsed": false,
    "pycharm": {
     "name": "#%% md\n"
    }
   }
  },
  {
   "cell_type": "markdown",
   "source": [
    "Add your thoughts here if you want\n"
   ],
   "metadata": {
    "collapsed": false,
    "pycharm": {
     "name": "#%% md\n"
    }
   }
  }
 ],
 "metadata": {
  "kernelspec": {
   "display_name": "Python 3 (ipykernel)",
   "language": "python",
   "name": "python3"
  },
  "language_info": {
   "codemirror_mode": {
    "name": "ipython",
    "version": 3
   },
   "file_extension": ".py",
   "mimetype": "text/x-python",
   "name": "python",
   "nbconvert_exporter": "python",
   "pygments_lexer": "ipython3",
   "version": "3.10.3"
  }
 },
 "nbformat": 4,
 "nbformat_minor": 2
}